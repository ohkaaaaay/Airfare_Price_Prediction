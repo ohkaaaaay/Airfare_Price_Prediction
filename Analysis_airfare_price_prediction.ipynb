{
 "cells": [
  {
   "cell_type": "markdown",
   "id": "746af3bf",
   "metadata": {},
   "source": [
    "# Analysis of Airfare Price Training Set"
   ]
  },
  {
   "cell_type": "code",
   "execution_count": 1,
   "id": "4ad0b9ec",
   "metadata": {},
   "outputs": [],
   "source": [
    "# Data manipulation\n",
    "import pandas as pd\n",
    "import numpy as np\n",
    "\n",
    "# Data visualization\n",
    "import matplotlib.pyplot as plt\n",
    "from matplotlib import rcParams\n",
    "import seaborn as sns\n",
    "\n",
    "# Apply styling\n",
    "plt.style.use(\"ggplot\")\n",
    "rcParams['figure.figsize'] = (12,  6)\n",
    "\n",
    "# Compute z-scores to remove outliers\n",
    "from scipy import stats\n",
    "import numpy as np\n",
    "\n",
    "# Label encoder\n",
    "from sklearn.preprocessing import LabelEncoder\n",
    "\n",
    "# Scikit-Learn\n",
    "from sklearn.linear_model import LinearRegression # Linear Regression\n",
    "from sklearn.model_selection import train_test_split, cross_val_score # Data split & cross validation\n",
    "from sklearn.metrics import r2_score, mean_squared_error # R squared & MSE\n",
    "from sklearn.preprocessing import StandardScaler # Standard scaler\n",
    "\n",
    "# TensorFlow\n",
    "import tensorflow as tf\n",
    "from tensorflow.keras import Sequential # Sequential API\n",
    "from tensorflow.keras.layers import Dense # Dense neural network\n",
    "from tensorflow.keras.optimizers import Adam # Adam optimizer"
   ]
  },
  {
   "cell_type": "markdown",
   "id": "628d77a9",
   "metadata": {},
   "source": [
    "## Why rcParams?\n",
    "Each time Matplotlib loads, it defines a runtime configuration (rc) containing the default styles for every plot element you create. This configuration can be adjusted at any time using the plt.rc convenience routine.\n",
    "\n",
    "**Link**: https://jakevdp.github.io/PythonDataScienceHandbook/04.11-settings-and-stylesheets.html"
   ]
  },
  {
   "cell_type": "code",
   "execution_count": 2,
   "id": "69cfae27",
   "metadata": {},
   "outputs": [
    {
     "data": {
      "text/html": [
       "<div>\n",
       "<style scoped>\n",
       "    .dataframe tbody tr th:only-of-type {\n",
       "        vertical-align: middle;\n",
       "    }\n",
       "\n",
       "    .dataframe tbody tr th {\n",
       "        vertical-align: top;\n",
       "    }\n",
       "\n",
       "    .dataframe thead th {\n",
       "        text-align: right;\n",
       "    }\n",
       "</style>\n",
       "<table border=\"1\" class=\"dataframe\">\n",
       "  <thead>\n",
       "    <tr style=\"text-align: right;\">\n",
       "      <th></th>\n",
       "      <th>Airline</th>\n",
       "      <th>Source</th>\n",
       "      <th>Destination</th>\n",
       "      <th>Route</th>\n",
       "      <th>Duration</th>\n",
       "      <th>Total_Stops</th>\n",
       "      <th>Additional_Info</th>\n",
       "      <th>Price</th>\n",
       "      <th>Journey_Day</th>\n",
       "      <th>Journey_Month</th>\n",
       "      <th>Journey_Year</th>\n",
       "      <th>Dep_Hour</th>\n",
       "      <th>Dep_Min</th>\n",
       "      <th>Arrival_Hour</th>\n",
       "      <th>Arrival_Min</th>\n",
       "    </tr>\n",
       "  </thead>\n",
       "  <tbody>\n",
       "    <tr>\n",
       "      <th>0</th>\n",
       "      <td>IndiGo</td>\n",
       "      <td>Banglore</td>\n",
       "      <td>New Delhi</td>\n",
       "      <td>BLR → DEL</td>\n",
       "      <td>170</td>\n",
       "      <td>0</td>\n",
       "      <td>No info</td>\n",
       "      <td>3897</td>\n",
       "      <td>24</td>\n",
       "      <td>3</td>\n",
       "      <td>2019</td>\n",
       "      <td>22</td>\n",
       "      <td>20</td>\n",
       "      <td>1</td>\n",
       "      <td>10</td>\n",
       "    </tr>\n",
       "    <tr>\n",
       "      <th>1</th>\n",
       "      <td>Air India</td>\n",
       "      <td>Kolkata</td>\n",
       "      <td>Banglore</td>\n",
       "      <td>CCU → IXR → BBI → BLR</td>\n",
       "      <td>445</td>\n",
       "      <td>2</td>\n",
       "      <td>No info</td>\n",
       "      <td>7662</td>\n",
       "      <td>1</td>\n",
       "      <td>5</td>\n",
       "      <td>2019</td>\n",
       "      <td>5</td>\n",
       "      <td>50</td>\n",
       "      <td>13</td>\n",
       "      <td>15</td>\n",
       "    </tr>\n",
       "    <tr>\n",
       "      <th>2</th>\n",
       "      <td>Jet Airways</td>\n",
       "      <td>Delhi</td>\n",
       "      <td>Cochin</td>\n",
       "      <td>DEL → LKO → BOM → COK</td>\n",
       "      <td>1140</td>\n",
       "      <td>2</td>\n",
       "      <td>No info</td>\n",
       "      <td>13882</td>\n",
       "      <td>9</td>\n",
       "      <td>6</td>\n",
       "      <td>2019</td>\n",
       "      <td>9</td>\n",
       "      <td>25</td>\n",
       "      <td>4</td>\n",
       "      <td>25</td>\n",
       "    </tr>\n",
       "    <tr>\n",
       "      <th>3</th>\n",
       "      <td>IndiGo</td>\n",
       "      <td>Kolkata</td>\n",
       "      <td>Banglore</td>\n",
       "      <td>CCU → NAG → BLR</td>\n",
       "      <td>325</td>\n",
       "      <td>1</td>\n",
       "      <td>No info</td>\n",
       "      <td>6218</td>\n",
       "      <td>12</td>\n",
       "      <td>5</td>\n",
       "      <td>2019</td>\n",
       "      <td>18</td>\n",
       "      <td>5</td>\n",
       "      <td>23</td>\n",
       "      <td>30</td>\n",
       "    </tr>\n",
       "    <tr>\n",
       "      <th>4</th>\n",
       "      <td>IndiGo</td>\n",
       "      <td>Banglore</td>\n",
       "      <td>New Delhi</td>\n",
       "      <td>BLR → NAG → DEL</td>\n",
       "      <td>285</td>\n",
       "      <td>1</td>\n",
       "      <td>No info</td>\n",
       "      <td>13302</td>\n",
       "      <td>1</td>\n",
       "      <td>3</td>\n",
       "      <td>2019</td>\n",
       "      <td>16</td>\n",
       "      <td>50</td>\n",
       "      <td>21</td>\n",
       "      <td>35</td>\n",
       "    </tr>\n",
       "  </tbody>\n",
       "</table>\n",
       "</div>"
      ],
      "text/plain": [
       "       Airline    Source Destination                  Route  Duration  \\\n",
       "0       IndiGo  Banglore   New Delhi              BLR → DEL       170   \n",
       "1    Air India   Kolkata    Banglore  CCU → IXR → BBI → BLR       445   \n",
       "2  Jet Airways     Delhi      Cochin  DEL → LKO → BOM → COK      1140   \n",
       "3       IndiGo   Kolkata    Banglore        CCU → NAG → BLR       325   \n",
       "4       IndiGo  Banglore   New Delhi        BLR → NAG → DEL       285   \n",
       "\n",
       "   Total_Stops Additional_Info  Price  Journey_Day  Journey_Month  \\\n",
       "0            0         No info   3897           24              3   \n",
       "1            2         No info   7662            1              5   \n",
       "2            2         No info  13882            9              6   \n",
       "3            1         No info   6218           12              5   \n",
       "4            1         No info  13302            1              3   \n",
       "\n",
       "   Journey_Year  Dep_Hour  Dep_Min  Arrival_Hour  Arrival_Min  \n",
       "0          2019        22       20             1           10  \n",
       "1          2019         5       50            13           15  \n",
       "2          2019         9       25             4           25  \n",
       "3          2019        18        5            23           30  \n",
       "4          2019        16       50            21           35  "
      ]
     },
     "execution_count": 2,
     "metadata": {},
     "output_type": "execute_result"
    }
   ],
   "source": [
    "# Load training dataset\n",
    "train = pd.read_csv('Dataset_Modified.csv')\n",
    "train.head()"
   ]
  },
  {
   "cell_type": "markdown",
   "id": "c5ad0557",
   "metadata": {},
   "source": [
    "## Convert Categorical Data into Numerical Data"
   ]
  },
  {
   "cell_type": "code",
   "execution_count": 3,
   "id": "1c53894a",
   "metadata": {},
   "outputs": [],
   "source": [
    "# Drop price\n",
    "data = train.drop([\"Price\"], axis=1)"
   ]
  },
  {
   "cell_type": "code",
   "execution_count": 4,
   "id": "06a02a85",
   "metadata": {},
   "outputs": [
    {
     "data": {
      "text/plain": [
       "['Airline',\n",
       " 'Source',\n",
       " 'Destination',\n",
       " 'Route',\n",
       " 'Duration',\n",
       " 'Total_Stops',\n",
       " 'Additional_Info',\n",
       " 'Journey_Day',\n",
       " 'Journey_Month',\n",
       " 'Journey_Year',\n",
       " 'Dep_Hour',\n",
       " 'Dep_Min',\n",
       " 'Arrival_Hour',\n",
       " 'Arrival_Min']"
      ]
     },
     "execution_count": 4,
     "metadata": {},
     "output_type": "execute_result"
    }
   ],
   "source": [
    "# List columns\n",
    "list(data.columns)"
   ]
  },
  {
   "cell_type": "markdown",
   "id": "1bf2b739",
   "metadata": {},
   "source": [
    "### Define Categorical and Numerical Data\n",
    "Separates the different data types to work with specifically the categorical data. Once the categorical data is converted, the numerical data will be concatenated."
   ]
  },
  {
   "cell_type": "code",
   "execution_count": 5,
   "id": "a911e204",
   "metadata": {},
   "outputs": [
    {
     "name": "stdout",
     "output_type": "stream",
     "text": [
      "<class 'pandas.core.frame.DataFrame'>\n",
      "RangeIndex: 10462 entries, 0 to 10461\n",
      "Data columns (total 14 columns):\n",
      " #   Column           Non-Null Count  Dtype \n",
      "---  ------           --------------  ----- \n",
      " 0   Airline          10462 non-null  object\n",
      " 1   Source           10462 non-null  object\n",
      " 2   Destination      10462 non-null  object\n",
      " 3   Route            10462 non-null  object\n",
      " 4   Duration         10462 non-null  int64 \n",
      " 5   Total_Stops      10462 non-null  int64 \n",
      " 6   Additional_Info  10462 non-null  object\n",
      " 7   Journey_Day      10462 non-null  int64 \n",
      " 8   Journey_Month    10462 non-null  int64 \n",
      " 9   Journey_Year     10462 non-null  int64 \n",
      " 10  Dep_Hour         10462 non-null  int64 \n",
      " 11  Dep_Min          10462 non-null  int64 \n",
      " 12  Arrival_Hour     10462 non-null  int64 \n",
      " 13  Arrival_Min      10462 non-null  int64 \n",
      "dtypes: int64(9), object(5)\n",
      "memory usage: 1.1+ MB\n"
     ]
    }
   ],
   "source": [
    "# Check data types\n",
    "data.info()"
   ]
  },
  {
   "cell_type": "code",
   "execution_count": 6,
   "id": "1830c255",
   "metadata": {},
   "outputs": [],
   "source": [
    "# Define only categorical data\n",
    "train_categorical_data = data.select_dtypes(exclude=['int64', 'float','int32'])"
   ]
  },
  {
   "cell_type": "code",
   "execution_count": 7,
   "id": "fc6d5f99",
   "metadata": {},
   "outputs": [
    {
     "name": "stdout",
     "output_type": "stream",
     "text": [
      "<class 'pandas.core.frame.DataFrame'>\n",
      "RangeIndex: 10462 entries, 0 to 10461\n",
      "Data columns (total 5 columns):\n",
      " #   Column           Non-Null Count  Dtype \n",
      "---  ------           --------------  ----- \n",
      " 0   Airline          10462 non-null  object\n",
      " 1   Source           10462 non-null  object\n",
      " 2   Destination      10462 non-null  object\n",
      " 3   Route            10462 non-null  object\n",
      " 4   Additional_Info  10462 non-null  object\n",
      "dtypes: object(5)\n",
      "memory usage: 408.8+ KB\n"
     ]
    }
   ],
   "source": [
    "# Check data type of categorical dataset\n",
    "train_categorical_data.info()"
   ]
  },
  {
   "cell_type": "code",
   "execution_count": 8,
   "id": "814065c3",
   "metadata": {},
   "outputs": [],
   "source": [
    "# Define only numerical data\n",
    "train_numerical_data = data.select_dtypes(include=['int64', 'float','int32'])"
   ]
  },
  {
   "cell_type": "code",
   "execution_count": 9,
   "id": "69a39902",
   "metadata": {},
   "outputs": [
    {
     "name": "stdout",
     "output_type": "stream",
     "text": [
      "<class 'pandas.core.frame.DataFrame'>\n",
      "RangeIndex: 10462 entries, 0 to 10461\n",
      "Data columns (total 9 columns):\n",
      " #   Column         Non-Null Count  Dtype\n",
      "---  ------         --------------  -----\n",
      " 0   Duration       10462 non-null  int64\n",
      " 1   Total_Stops    10462 non-null  int64\n",
      " 2   Journey_Day    10462 non-null  int64\n",
      " 3   Journey_Month  10462 non-null  int64\n",
      " 4   Journey_Year   10462 non-null  int64\n",
      " 5   Dep_Hour       10462 non-null  int64\n",
      " 6   Dep_Min        10462 non-null  int64\n",
      " 7   Arrival_Hour   10462 non-null  int64\n",
      " 8   Arrival_Min    10462 non-null  int64\n",
      "dtypes: int64(9)\n",
      "memory usage: 735.7 KB\n"
     ]
    }
   ],
   "source": [
    "# Check data type of numerical dataset\n",
    "train_numerical_data.info()"
   ]
  },
  {
   "cell_type": "markdown",
   "id": "6af677bb",
   "metadata": {},
   "source": [
    "**LabelEncoder( ) Summary**: https://scikit-learn.org/stable/modules/generated/sklearn.preprocessing.LabelEncoder.html\n",
    "\n",
    "**Warning**: Label encoding is a very simple approach in converting categorical data but it may introduce a new problem since it uses number sequencing. That problem is introducing relation/comparison between them. Will be introducing label encoding for the time being to see the results. However, further data modifying may need to happen.\n",
    "\n",
    "**Reference**: https://towardsdatascience.com/categorical-encoding-using-label-encoding-and-one-hot-encoder-911ef77fb5bd"
   ]
  },
  {
   "cell_type": "code",
   "execution_count": 10,
   "id": "0a4a628e",
   "metadata": {},
   "outputs": [],
   "source": [
    "# Label Encoding\n",
    "le = LabelEncoder()\n",
    "train_categorical_data = train_categorical_data.apply(le.fit_transform)"
   ]
  },
  {
   "cell_type": "code",
   "execution_count": 11,
   "id": "a374b838",
   "metadata": {},
   "outputs": [
    {
     "data": {
      "text/html": [
       "<div>\n",
       "<style scoped>\n",
       "    .dataframe tbody tr th:only-of-type {\n",
       "        vertical-align: middle;\n",
       "    }\n",
       "\n",
       "    .dataframe tbody tr th {\n",
       "        vertical-align: top;\n",
       "    }\n",
       "\n",
       "    .dataframe thead th {\n",
       "        text-align: right;\n",
       "    }\n",
       "</style>\n",
       "<table border=\"1\" class=\"dataframe\">\n",
       "  <thead>\n",
       "    <tr style=\"text-align: right;\">\n",
       "      <th></th>\n",
       "      <th>Airline</th>\n",
       "      <th>Source</th>\n",
       "      <th>Destination</th>\n",
       "      <th>Route</th>\n",
       "      <th>Additional_Info</th>\n",
       "    </tr>\n",
       "  </thead>\n",
       "  <tbody>\n",
       "    <tr>\n",
       "      <th>0</th>\n",
       "      <td>3</td>\n",
       "      <td>0</td>\n",
       "      <td>5</td>\n",
       "      <td>18</td>\n",
       "      <td>3</td>\n",
       "    </tr>\n",
       "    <tr>\n",
       "      <th>1</th>\n",
       "      <td>1</td>\n",
       "      <td>3</td>\n",
       "      <td>0</td>\n",
       "      <td>84</td>\n",
       "      <td>3</td>\n",
       "    </tr>\n",
       "    <tr>\n",
       "      <th>2</th>\n",
       "      <td>4</td>\n",
       "      <td>2</td>\n",
       "      <td>1</td>\n",
       "      <td>118</td>\n",
       "      <td>3</td>\n",
       "    </tr>\n",
       "    <tr>\n",
       "      <th>3</th>\n",
       "      <td>3</td>\n",
       "      <td>3</td>\n",
       "      <td>0</td>\n",
       "      <td>91</td>\n",
       "      <td>3</td>\n",
       "    </tr>\n",
       "    <tr>\n",
       "      <th>4</th>\n",
       "      <td>3</td>\n",
       "      <td>0</td>\n",
       "      <td>5</td>\n",
       "      <td>29</td>\n",
       "      <td>3</td>\n",
       "    </tr>\n",
       "  </tbody>\n",
       "</table>\n",
       "</div>"
      ],
      "text/plain": [
       "   Airline  Source  Destination  Route  Additional_Info\n",
       "0        3       0            5     18                3\n",
       "1        1       3            0     84                3\n",
       "2        4       2            1    118                3\n",
       "3        3       3            0     91                3\n",
       "4        3       0            5     29                3"
      ]
     },
     "execution_count": 11,
     "metadata": {},
     "output_type": "execute_result"
    }
   ],
   "source": [
    "train_categorical_data.head()"
   ]
  },
  {
   "cell_type": "code",
   "execution_count": 12,
   "id": "af43d3eb",
   "metadata": {},
   "outputs": [
    {
     "data": {
      "text/plain": [
       "Airline              9\n",
       "Source               5\n",
       "Destination          6\n",
       "Route              128\n",
       "Additional_Info      5\n",
       "dtype: int64"
      ]
     },
     "execution_count": 12,
     "metadata": {},
     "output_type": "execute_result"
    }
   ],
   "source": [
    "# Check uniqueness\n",
    "train_categorical_data.nunique()"
   ]
  },
  {
   "cell_type": "markdown",
   "id": "10cbd926",
   "metadata": {},
   "source": [
    "### Concatenate Categorical & Numerical Data"
   ]
  },
  {
   "cell_type": "code",
   "execution_count": 13,
   "id": "4fce95b7",
   "metadata": {},
   "outputs": [],
   "source": [
    "x = pd.concat([train_categorical_data, train_numerical_data], axis=1)\n",
    "y = train['Price']"
   ]
  },
  {
   "cell_type": "code",
   "execution_count": 14,
   "id": "d924b946",
   "metadata": {},
   "outputs": [
    {
     "data": {
      "text/html": [
       "<div>\n",
       "<style scoped>\n",
       "    .dataframe tbody tr th:only-of-type {\n",
       "        vertical-align: middle;\n",
       "    }\n",
       "\n",
       "    .dataframe tbody tr th {\n",
       "        vertical-align: top;\n",
       "    }\n",
       "\n",
       "    .dataframe thead th {\n",
       "        text-align: right;\n",
       "    }\n",
       "</style>\n",
       "<table border=\"1\" class=\"dataframe\">\n",
       "  <thead>\n",
       "    <tr style=\"text-align: right;\">\n",
       "      <th></th>\n",
       "      <th>Airline</th>\n",
       "      <th>Source</th>\n",
       "      <th>Destination</th>\n",
       "      <th>Route</th>\n",
       "      <th>Additional_Info</th>\n",
       "      <th>Duration</th>\n",
       "      <th>Total_Stops</th>\n",
       "      <th>Journey_Day</th>\n",
       "      <th>Journey_Month</th>\n",
       "      <th>Journey_Year</th>\n",
       "      <th>Dep_Hour</th>\n",
       "      <th>Dep_Min</th>\n",
       "      <th>Arrival_Hour</th>\n",
       "      <th>Arrival_Min</th>\n",
       "    </tr>\n",
       "  </thead>\n",
       "  <tbody>\n",
       "    <tr>\n",
       "      <th>0</th>\n",
       "      <td>3</td>\n",
       "      <td>0</td>\n",
       "      <td>5</td>\n",
       "      <td>18</td>\n",
       "      <td>3</td>\n",
       "      <td>170</td>\n",
       "      <td>0</td>\n",
       "      <td>24</td>\n",
       "      <td>3</td>\n",
       "      <td>2019</td>\n",
       "      <td>22</td>\n",
       "      <td>20</td>\n",
       "      <td>1</td>\n",
       "      <td>10</td>\n",
       "    </tr>\n",
       "    <tr>\n",
       "      <th>1</th>\n",
       "      <td>1</td>\n",
       "      <td>3</td>\n",
       "      <td>0</td>\n",
       "      <td>84</td>\n",
       "      <td>3</td>\n",
       "      <td>445</td>\n",
       "      <td>2</td>\n",
       "      <td>1</td>\n",
       "      <td>5</td>\n",
       "      <td>2019</td>\n",
       "      <td>5</td>\n",
       "      <td>50</td>\n",
       "      <td>13</td>\n",
       "      <td>15</td>\n",
       "    </tr>\n",
       "    <tr>\n",
       "      <th>2</th>\n",
       "      <td>4</td>\n",
       "      <td>2</td>\n",
       "      <td>1</td>\n",
       "      <td>118</td>\n",
       "      <td>3</td>\n",
       "      <td>1140</td>\n",
       "      <td>2</td>\n",
       "      <td>9</td>\n",
       "      <td>6</td>\n",
       "      <td>2019</td>\n",
       "      <td>9</td>\n",
       "      <td>25</td>\n",
       "      <td>4</td>\n",
       "      <td>25</td>\n",
       "    </tr>\n",
       "    <tr>\n",
       "      <th>3</th>\n",
       "      <td>3</td>\n",
       "      <td>3</td>\n",
       "      <td>0</td>\n",
       "      <td>91</td>\n",
       "      <td>3</td>\n",
       "      <td>325</td>\n",
       "      <td>1</td>\n",
       "      <td>12</td>\n",
       "      <td>5</td>\n",
       "      <td>2019</td>\n",
       "      <td>18</td>\n",
       "      <td>5</td>\n",
       "      <td>23</td>\n",
       "      <td>30</td>\n",
       "    </tr>\n",
       "    <tr>\n",
       "      <th>4</th>\n",
       "      <td>3</td>\n",
       "      <td>0</td>\n",
       "      <td>5</td>\n",
       "      <td>29</td>\n",
       "      <td>3</td>\n",
       "      <td>285</td>\n",
       "      <td>1</td>\n",
       "      <td>1</td>\n",
       "      <td>3</td>\n",
       "      <td>2019</td>\n",
       "      <td>16</td>\n",
       "      <td>50</td>\n",
       "      <td>21</td>\n",
       "      <td>35</td>\n",
       "    </tr>\n",
       "  </tbody>\n",
       "</table>\n",
       "</div>"
      ],
      "text/plain": [
       "   Airline  Source  Destination  Route  Additional_Info  Duration  \\\n",
       "0        3       0            5     18                3       170   \n",
       "1        1       3            0     84                3       445   \n",
       "2        4       2            1    118                3      1140   \n",
       "3        3       3            0     91                3       325   \n",
       "4        3       0            5     29                3       285   \n",
       "\n",
       "   Total_Stops  Journey_Day  Journey_Month  Journey_Year  Dep_Hour  Dep_Min  \\\n",
       "0            0           24              3          2019        22       20   \n",
       "1            2            1              5          2019         5       50   \n",
       "2            2            9              6          2019         9       25   \n",
       "3            1           12              5          2019        18        5   \n",
       "4            1            1              3          2019        16       50   \n",
       "\n",
       "   Arrival_Hour  Arrival_Min  \n",
       "0             1           10  \n",
       "1            13           15  \n",
       "2             4           25  \n",
       "3            23           30  \n",
       "4            21           35  "
      ]
     },
     "execution_count": 14,
     "metadata": {},
     "output_type": "execute_result"
    }
   ],
   "source": [
    "# Check features\n",
    "x.head()"
   ]
  },
  {
   "cell_type": "code",
   "execution_count": 15,
   "id": "c8ef7302",
   "metadata": {},
   "outputs": [
    {
     "data": {
      "text/plain": [
       "0     3897\n",
       "1     7662\n",
       "2    13882\n",
       "3     6218\n",
       "4    13302\n",
       "Name: Price, dtype: int64"
      ]
     },
     "execution_count": 15,
     "metadata": {},
     "output_type": "execute_result"
    }
   ],
   "source": [
    "# Check target\n",
    "y.head()"
   ]
  },
  {
   "cell_type": "markdown",
   "id": "73b532f0",
   "metadata": {},
   "source": [
    "## Linear Regression\n",
    "Perform linear regression using Duration (refer to EDA_airfare_price_prediction.ipynb for reasoning).\n",
    "\n",
    "Links:\n",
    "- Scikit-Learn: https://scikit-learn.org/stable/modules/generated/sklearn.linear_model.LinearRegression.html\n",
    "- Walkthrough: https://medium.com/analytics-vidhya/linear-regression-in-python-with-scikit-learn-e1bb8a059cd2"
   ]
  },
  {
   "cell_type": "markdown",
   "id": "9b4968f5",
   "metadata": {},
   "source": [
    "### Remove Outliers"
   ]
  },
  {
   "cell_type": "code",
   "execution_count": 16,
   "id": "6f3c1aca",
   "metadata": {},
   "outputs": [],
   "source": [
    "# Concatenate x and y so outliers can be removed together\n",
    "data_lr = pd.concat([x, y], axis=1)"
   ]
  },
  {
   "cell_type": "code",
   "execution_count": 17,
   "id": "b34bc66e",
   "metadata": {},
   "outputs": [
    {
     "data": {
      "text/html": [
       "<div>\n",
       "<style scoped>\n",
       "    .dataframe tbody tr th:only-of-type {\n",
       "        vertical-align: middle;\n",
       "    }\n",
       "\n",
       "    .dataframe tbody tr th {\n",
       "        vertical-align: top;\n",
       "    }\n",
       "\n",
       "    .dataframe thead th {\n",
       "        text-align: right;\n",
       "    }\n",
       "</style>\n",
       "<table border=\"1\" class=\"dataframe\">\n",
       "  <thead>\n",
       "    <tr style=\"text-align: right;\">\n",
       "      <th></th>\n",
       "      <th>Airline</th>\n",
       "      <th>Source</th>\n",
       "      <th>Destination</th>\n",
       "      <th>Route</th>\n",
       "      <th>Additional_Info</th>\n",
       "      <th>Duration</th>\n",
       "      <th>Total_Stops</th>\n",
       "      <th>Journey_Day</th>\n",
       "      <th>Journey_Month</th>\n",
       "      <th>Journey_Year</th>\n",
       "      <th>Dep_Hour</th>\n",
       "      <th>Dep_Min</th>\n",
       "      <th>Arrival_Hour</th>\n",
       "      <th>Arrival_Min</th>\n",
       "      <th>Price</th>\n",
       "    </tr>\n",
       "  </thead>\n",
       "  <tbody>\n",
       "    <tr>\n",
       "      <th>0</th>\n",
       "      <td>3</td>\n",
       "      <td>0</td>\n",
       "      <td>5</td>\n",
       "      <td>18</td>\n",
       "      <td>3</td>\n",
       "      <td>170</td>\n",
       "      <td>0</td>\n",
       "      <td>24</td>\n",
       "      <td>3</td>\n",
       "      <td>2019</td>\n",
       "      <td>22</td>\n",
       "      <td>20</td>\n",
       "      <td>1</td>\n",
       "      <td>10</td>\n",
       "      <td>3897</td>\n",
       "    </tr>\n",
       "    <tr>\n",
       "      <th>1</th>\n",
       "      <td>1</td>\n",
       "      <td>3</td>\n",
       "      <td>0</td>\n",
       "      <td>84</td>\n",
       "      <td>3</td>\n",
       "      <td>445</td>\n",
       "      <td>2</td>\n",
       "      <td>1</td>\n",
       "      <td>5</td>\n",
       "      <td>2019</td>\n",
       "      <td>5</td>\n",
       "      <td>50</td>\n",
       "      <td>13</td>\n",
       "      <td>15</td>\n",
       "      <td>7662</td>\n",
       "    </tr>\n",
       "    <tr>\n",
       "      <th>2</th>\n",
       "      <td>4</td>\n",
       "      <td>2</td>\n",
       "      <td>1</td>\n",
       "      <td>118</td>\n",
       "      <td>3</td>\n",
       "      <td>1140</td>\n",
       "      <td>2</td>\n",
       "      <td>9</td>\n",
       "      <td>6</td>\n",
       "      <td>2019</td>\n",
       "      <td>9</td>\n",
       "      <td>25</td>\n",
       "      <td>4</td>\n",
       "      <td>25</td>\n",
       "      <td>13882</td>\n",
       "    </tr>\n",
       "    <tr>\n",
       "      <th>3</th>\n",
       "      <td>3</td>\n",
       "      <td>3</td>\n",
       "      <td>0</td>\n",
       "      <td>91</td>\n",
       "      <td>3</td>\n",
       "      <td>325</td>\n",
       "      <td>1</td>\n",
       "      <td>12</td>\n",
       "      <td>5</td>\n",
       "      <td>2019</td>\n",
       "      <td>18</td>\n",
       "      <td>5</td>\n",
       "      <td>23</td>\n",
       "      <td>30</td>\n",
       "      <td>6218</td>\n",
       "    </tr>\n",
       "    <tr>\n",
       "      <th>4</th>\n",
       "      <td>3</td>\n",
       "      <td>0</td>\n",
       "      <td>5</td>\n",
       "      <td>29</td>\n",
       "      <td>3</td>\n",
       "      <td>285</td>\n",
       "      <td>1</td>\n",
       "      <td>1</td>\n",
       "      <td>3</td>\n",
       "      <td>2019</td>\n",
       "      <td>16</td>\n",
       "      <td>50</td>\n",
       "      <td>21</td>\n",
       "      <td>35</td>\n",
       "      <td>13302</td>\n",
       "    </tr>\n",
       "  </tbody>\n",
       "</table>\n",
       "</div>"
      ],
      "text/plain": [
       "   Airline  Source  Destination  Route  Additional_Info  Duration  \\\n",
       "0        3       0            5     18                3       170   \n",
       "1        1       3            0     84                3       445   \n",
       "2        4       2            1    118                3      1140   \n",
       "3        3       3            0     91                3       325   \n",
       "4        3       0            5     29                3       285   \n",
       "\n",
       "   Total_Stops  Journey_Day  Journey_Month  Journey_Year  Dep_Hour  Dep_Min  \\\n",
       "0            0           24              3          2019        22       20   \n",
       "1            2            1              5          2019         5       50   \n",
       "2            2            9              6          2019         9       25   \n",
       "3            1           12              5          2019        18        5   \n",
       "4            1            1              3          2019        16       50   \n",
       "\n",
       "   Arrival_Hour  Arrival_Min  Price  \n",
       "0             1           10   3897  \n",
       "1            13           15   7662  \n",
       "2             4           25  13882  \n",
       "3            23           30   6218  \n",
       "4            21           35  13302  "
      ]
     },
     "execution_count": 17,
     "metadata": {},
     "output_type": "execute_result"
    }
   ],
   "source": [
    "data_lr.head()"
   ]
  },
  {
   "cell_type": "code",
   "execution_count": 18,
   "id": "6e4d6904",
   "metadata": {},
   "outputs": [],
   "source": [
    "# Define dataframe with only needed variables\n",
    "x_lr = data_lr[[\"Duration\", \"Price\"]]"
   ]
  },
  {
   "cell_type": "code",
   "execution_count": 19,
   "id": "4f2d217f",
   "metadata": {},
   "outputs": [
    {
     "data": {
      "text/html": [
       "<div>\n",
       "<style scoped>\n",
       "    .dataframe tbody tr th:only-of-type {\n",
       "        vertical-align: middle;\n",
       "    }\n",
       "\n",
       "    .dataframe tbody tr th {\n",
       "        vertical-align: top;\n",
       "    }\n",
       "\n",
       "    .dataframe thead th {\n",
       "        text-align: right;\n",
       "    }\n",
       "</style>\n",
       "<table border=\"1\" class=\"dataframe\">\n",
       "  <thead>\n",
       "    <tr style=\"text-align: right;\">\n",
       "      <th></th>\n",
       "      <th>Duration</th>\n",
       "      <th>Price</th>\n",
       "    </tr>\n",
       "  </thead>\n",
       "  <tbody>\n",
       "    <tr>\n",
       "      <th>0</th>\n",
       "      <td>170</td>\n",
       "      <td>3897</td>\n",
       "    </tr>\n",
       "    <tr>\n",
       "      <th>1</th>\n",
       "      <td>445</td>\n",
       "      <td>7662</td>\n",
       "    </tr>\n",
       "    <tr>\n",
       "      <th>2</th>\n",
       "      <td>1140</td>\n",
       "      <td>13882</td>\n",
       "    </tr>\n",
       "    <tr>\n",
       "      <th>3</th>\n",
       "      <td>325</td>\n",
       "      <td>6218</td>\n",
       "    </tr>\n",
       "    <tr>\n",
       "      <th>4</th>\n",
       "      <td>285</td>\n",
       "      <td>13302</td>\n",
       "    </tr>\n",
       "  </tbody>\n",
       "</table>\n",
       "</div>"
      ],
      "text/plain": [
       "   Duration  Price\n",
       "0       170   3897\n",
       "1       445   7662\n",
       "2      1140  13882\n",
       "3       325   6218\n",
       "4       285  13302"
      ]
     },
     "execution_count": 19,
     "metadata": {},
     "output_type": "execute_result"
    }
   ],
   "source": [
    "x_lr.head()"
   ]
  },
  {
   "cell_type": "code",
   "execution_count": 20,
   "id": "826ef4eb",
   "metadata": {},
   "outputs": [],
   "source": [
    "# Calculate z scores\n",
    "z = np.abs(stats.zscore(x_lr[[\"Duration\"]]))"
   ]
  },
  {
   "cell_type": "code",
   "execution_count": 21,
   "id": "48127362",
   "metadata": {},
   "outputs": [
    {
     "data": {
      "text/html": [
       "<div>\n",
       "<style scoped>\n",
       "    .dataframe tbody tr th:only-of-type {\n",
       "        vertical-align: middle;\n",
       "    }\n",
       "\n",
       "    .dataframe tbody tr th {\n",
       "        vertical-align: top;\n",
       "    }\n",
       "\n",
       "    .dataframe thead th {\n",
       "        text-align: right;\n",
       "    }\n",
       "</style>\n",
       "<table border=\"1\" class=\"dataframe\">\n",
       "  <thead>\n",
       "    <tr style=\"text-align: right;\">\n",
       "      <th></th>\n",
       "      <th>Duration</th>\n",
       "    </tr>\n",
       "  </thead>\n",
       "  <tbody>\n",
       "    <tr>\n",
       "      <th>0</th>\n",
       "      <td>0.918323</td>\n",
       "    </tr>\n",
       "    <tr>\n",
       "      <th>1</th>\n",
       "      <td>0.369065</td>\n",
       "    </tr>\n",
       "    <tr>\n",
       "      <th>2</th>\n",
       "      <td>1.019061</td>\n",
       "    </tr>\n",
       "    <tr>\n",
       "      <th>3</th>\n",
       "      <td>0.608741</td>\n",
       "    </tr>\n",
       "    <tr>\n",
       "      <th>4</th>\n",
       "      <td>0.688633</td>\n",
       "    </tr>\n",
       "  </tbody>\n",
       "</table>\n",
       "</div>"
      ],
      "text/plain": [
       "   Duration\n",
       "0  0.918323\n",
       "1  0.369065\n",
       "2  1.019061\n",
       "3  0.608741\n",
       "4  0.688633"
      ]
     },
     "execution_count": 21,
     "metadata": {},
     "output_type": "execute_result"
    }
   ],
   "source": [
    "z.head()"
   ]
  },
  {
   "cell_type": "code",
   "execution_count": 22,
   "id": "2d33a7e9",
   "metadata": {},
   "outputs": [],
   "source": [
    "# Filter outliers outside a 99% confidence interval (z-score=3)\n",
    "x_lr = x_lr[(z < 3).all(axis=1)]"
   ]
  },
  {
   "cell_type": "code",
   "execution_count": 23,
   "id": "a5ea5feb",
   "metadata": {},
   "outputs": [
    {
     "data": {
      "text/plain": [
       "(10401, 2)"
      ]
     },
     "execution_count": 23,
     "metadata": {},
     "output_type": "execute_result"
    }
   ],
   "source": [
    "# Check dataframe shape\n",
    "x_lr.shape"
   ]
  },
  {
   "cell_type": "code",
   "execution_count": 24,
   "id": "57c91726",
   "metadata": {},
   "outputs": [
    {
     "data": {
      "text/plain": [
       "(10462, 15)"
      ]
     },
     "execution_count": 24,
     "metadata": {},
     "output_type": "execute_result"
    }
   ],
   "source": [
    "# Compare original dataframe shape (61 outliers identified)\n",
    "train.shape"
   ]
  },
  {
   "cell_type": "code",
   "execution_count": 25,
   "id": "cdb6ad00",
   "metadata": {
    "scrolled": true
   },
   "outputs": [
    {
     "data": {
      "image/png": "[encoded data removed]",
      "text/plain": [
       "<Figure size 864x432 with 1 Axes>"
      ]
     },
     "metadata": {},
     "output_type": "display_data"
    }
   ],
   "source": [
    "plt.scatter(x=x_lr[\"Duration\"], y=x_lr[\"Price\"], color='blue')\n",
    "plt.title('Airfare Prices Due to Flight Duration')\n",
    "plt.xlabel('Duration')\n",
    "plt.ylabel('Price')\n",
    "plt.show()"
   ]
  },
  {
   "cell_type": "markdown",
   "id": "4a399415",
   "metadata": {},
   "source": [
    "The variables need to be reshaped for linear regression to be used.\n",
    "\n",
    "Link: https://stackoverflow.com/questions/51150153/valueerror-expected-2d-array-got-1d-array-instead"
   ]
  },
  {
   "cell_type": "code",
   "execution_count": 26,
   "id": "7486da44",
   "metadata": {},
   "outputs": [],
   "source": [
    "# Define variables - Need to convert from 2D array to 1D array\n",
    "X = x_lr.iloc[:, 0].values.reshape(-1, 1)\n",
    "y = x_lr.iloc[:, 1].values.reshape(-1, 1)"
   ]
  },
  {
   "cell_type": "code",
   "execution_count": 27,
   "id": "e7f2d6bf",
   "metadata": {},
   "outputs": [],
   "source": [
    "# Split data - 80% train and 20% test\n",
    "X_train, X_test, y_train, y_test = train_test_split(X, y, test_size=0.2, random_state=42)"
   ]
  },
  {
   "cell_type": "code",
   "execution_count": 28,
   "id": "57a909b9",
   "metadata": {},
   "outputs": [],
   "source": [
    "# Build linear regression model\n",
    "lr = LinearRegression().fit(X_train, y_train)"
   ]
  },
  {
   "cell_type": "code",
   "execution_count": 29,
   "id": "0319de5f",
   "metadata": {},
   "outputs": [
    {
     "data": {
      "text/plain": [
       "array([0.25892698, 0.25844864, 0.25987264, 0.25009363, 0.24585734])"
      ]
     },
     "execution_count": 29,
     "metadata": {},
     "output_type": "execute_result"
    }
   ],
   "source": [
    "# Cross validation traing scores\n",
    "cross_val_score(lr, X, y)"
   ]
  },
  {
   "cell_type": "code",
   "execution_count": 30,
   "id": "7fb1ba35",
   "metadata": {},
   "outputs": [
    {
     "data": {
      "text/plain": [
       "array([6019.61642498])"
      ]
     },
     "execution_count": 30,
     "metadata": {},
     "output_type": "execute_result"
    }
   ],
   "source": [
    "# Intercept\n",
    "lr.intercept_"
   ]
  },
  {
   "cell_type": "code",
   "execution_count": 31,
   "id": "c58ca5dd",
   "metadata": {},
   "outputs": [
    {
     "data": {
      "text/plain": [
       "array([[4.80663553]])"
      ]
     },
     "execution_count": 31,
     "metadata": {},
     "output_type": "execute_result"
    }
   ],
   "source": [
    "# Coefficient\n",
    "lr.coef_"
   ]
  },
  {
   "cell_type": "code",
   "execution_count": 32,
   "id": "5b61224b",
   "metadata": {},
   "outputs": [],
   "source": [
    "# Predicted prices\n",
    "y_pred = lr.predict(X_test)"
   ]
  },
  {
   "cell_type": "code",
   "execution_count": 33,
   "id": "790c6f59",
   "metadata": {},
   "outputs": [
    {
     "data": {
      "image/png": "[encoded data removed]",
      "text/plain": [
       "<Figure size 864x432 with 1 Axes>"
      ]
     },
     "metadata": {},
     "output_type": "display_data"
    }
   ],
   "source": [
    "plt.scatter(x=x_lr[\"Duration\"], y=x_lr[\"Price\"], color='blue')\n",
    "plt.plot(X_test, y_pred) # Best fit line\n",
    "plt.title('Airfare Prices Due to Flight Duration')\n",
    "plt.xlabel('Duration')\n",
    "plt.ylabel('Price')\n",
    "plt.show()"
   ]
  },
  {
   "cell_type": "code",
   "execution_count": 34,
   "id": "f25750ce",
   "metadata": {},
   "outputs": [
    {
     "data": {
      "text/plain": [
       "0.2271312496166018"
      ]
     },
     "execution_count": 34,
     "metadata": {},
     "output_type": "execute_result"
    }
   ],
   "source": [
    "# R squared evaluation\n",
    "r2_score(y_test, y_pred)"
   ]
  },
  {
   "cell_type": "code",
   "execution_count": 35,
   "id": "427ea98d",
   "metadata": {},
   "outputs": [
    {
     "data": {
      "text/plain": [
       "4304.309670821705"
      ]
     },
     "execution_count": 35,
     "metadata": {},
     "output_type": "execute_result"
    }
   ],
   "source": [
    "# Test RMSE evaluation\n",
    "mean_squared_error(y_test, y_pred, squared=False)"
   ]
  },
  {
   "cell_type": "markdown",
   "id": "04bab244",
   "metadata": {},
   "source": [
    "## Neural Network (TensorFlow)\n",
    "Applications used for the best NN model:\n",
    "- **StandardScaler**: Scales all values between min and max so that they fall within a range from min to max. MinMaxScaler wasn't applied since its used more for when the upper and lower boundaries are well known from domain knowledge. It scales the minimum and maximum values to be 0 and 1 respectively.\n",
    "- **Input Neurons**: 1 - For Departure Feature\n",
    "- **Hidden Layers**: 3 Layers\n",
    "- **Optimizer**: Adam optimizer\n",
    "- **Neurons per Hidden Layer**: 256, 256, 128\n",
    "- **Output Neurons**: 1 - For Price\n",
    "- **Hidden Activation**: Rectified Linear Unit (ReLU)\n",
    "- **Loss Function**: MSE - Transforming to RMSE\n",
    "\n",
    "Reference page for NN model: https://towardsdatascience.com/regression-modelling-with-tensorflow-made-easy-train-your-first-model-in-10-minutes-497d829c7338"
   ]
  },
  {
   "cell_type": "code",
   "execution_count": 36,
   "id": "5c6309d3",
   "metadata": {},
   "outputs": [],
   "source": [
    "# Create scale\n",
    "scaler = StandardScaler()"
   ]
  },
  {
   "cell_type": "code",
   "execution_count": 37,
   "id": "3624a845",
   "metadata": {},
   "outputs": [],
   "source": [
    "# Fit & transform feature\n",
    "X_train = scaler.fit_transform(X_train)\n",
    "X_test = scaler.fit_transform(X_test)"
   ]
  },
  {
   "cell_type": "code",
   "execution_count": 38,
   "id": "5e89b038",
   "metadata": {},
   "outputs": [
    {
     "data": {
      "text/plain": [
       "array([[ 0.23528994],\n",
       "       [-0.92685176],\n",
       "       [ 0.25585882],\n",
       "       ...,\n",
       "       [-0.91656732],\n",
       "       [ 0.26614325],\n",
       "       [ 0.08102334]])"
      ]
     },
     "execution_count": 38,
     "metadata": {},
     "output_type": "execute_result"
    }
   ],
   "source": [
    "X_train"
   ]
  },
  {
   "cell_type": "code",
   "execution_count": 39,
   "id": "62ff8084",
   "metadata": {},
   "outputs": [
    {
     "name": "stderr",
     "output_type": "stream",
     "text": [
      "2023-04-04 19:07:12.837163: I tensorflow/core/platform/cpu_feature_guard.cc:193] This TensorFlow binary is optimized with oneAPI Deep Neural Network Library (oneDNN) to use the following CPU instructions in performance-critical operations:  AVX2 FMA\n",
      "To enable them in other operations, rebuild TensorFlow with the appropriate compiler flags.\n"
     ]
    }
   ],
   "source": [
    "# Random seed\n",
    "tf.random.set_seed(42)\n",
    "\n",
    "# Build NN model\n",
    "model = Sequential([\n",
    "    Dense(256, activation = \"relu\"),\n",
    "    Dense(256, activation = \"relu\"),\n",
    "    Dense(128, activation = \"relu\"),\n",
    "    Dense(1)\n",
    "])"
   ]
  },
  {
   "cell_type": "code",
   "execution_count": 40,
   "id": "c909dede",
   "metadata": {},
   "outputs": [],
   "source": [
    "# Define RMSE\n",
    "rmse = tf.keras.metrics.RootMeanSquaredError()"
   ]
  },
  {
   "cell_type": "code",
   "execution_count": 41,
   "id": "75c3a708",
   "metadata": {},
   "outputs": [],
   "source": [
    "# Compile NN model\n",
    "model.compile(\n",
    "    loss = \"mean_squared_error\",\n",
    "    optimizer = Adam(),\n",
    "    metrics = [rmse] # Display RMSE for the metrics\n",
    ")"
   ]
  },
  {
   "cell_type": "markdown",
   "id": "d0ab0ac7",
   "metadata": {},
   "source": [
    "Convert data y_train data type from int64 to float64. X_train has a data type of float64 which would lead to a type error when fitting the model"
   ]
  },
  {
   "cell_type": "code",
   "execution_count": 42,
   "id": "ee5437db",
   "metadata": {},
   "outputs": [],
   "source": [
    "# Convert data y_train data type\n",
    "y_train = y_train.astype(np.float64)"
   ]
  },
  {
   "cell_type": "code",
   "execution_count": 43,
   "id": "5ba47e12",
   "metadata": {},
   "outputs": [
    {
     "name": "stdout",
     "output_type": "stream",
     "text": [
      "Epoch 1/100\n",
      "260/260 [==============================] - 1s 3ms/step - loss: 50820144.0000 - root_mean_squared_error: 7128.8247\n",
      "Epoch 2/100\n",
      "260/260 [==============================] - 1s 3ms/step - loss: 15350324.0000 - root_mean_squared_error: 3917.9490\n",
      "Epoch 3/100\n",
      "260/260 [==============================] - 1s 3ms/step - loss: 15293070.0000 - root_mean_squared_error: 3910.6355\n",
      "Epoch 4/100\n",
      "260/260 [==============================] - 1s 3ms/step - loss: 15324354.0000 - root_mean_squared_error: 3914.6333\n",
      "Epoch 5/100\n",
      "260/260 [==============================] - 1s 4ms/step - loss: 15313411.0000 - root_mean_squared_error: 3913.2354\n",
      "Epoch 6/100\n",
      "260/260 [==============================] - 1s 3ms/step - loss: 15328602.0000 - root_mean_squared_error: 3915.1758\n",
      "Epoch 7/100\n",
      "260/260 [==============================] - 1s 3ms/step - loss: 15326127.0000 - root_mean_squared_error: 3914.8599\n",
      "Epoch 8/100\n",
      "260/260 [==============================] - 1s 3ms/step - loss: 15290150.0000 - root_mean_squared_error: 3910.2622\n",
      "Epoch 9/100\n",
      "260/260 [==============================] - 1s 3ms/step - loss: 15292991.0000 - root_mean_squared_error: 3910.6255\n",
      "Epoch 10/100\n",
      "260/260 [==============================] - 1s 3ms/step - loss: 15293128.0000 - root_mean_squared_error: 3910.6428\n",
      "Epoch 11/100\n",
      "260/260 [==============================] - 1s 3ms/step - loss: 15308084.0000 - root_mean_squared_error: 3912.5547\n",
      "Epoch 12/100\n",
      "260/260 [==============================] - 1s 3ms/step - loss: 15306464.0000 - root_mean_squared_error: 3912.3477\n",
      "Epoch 13/100\n",
      "260/260 [==============================] - 1s 3ms/step - loss: 15299024.0000 - root_mean_squared_error: 3911.3967\n",
      "Epoch 14/100\n",
      "260/260 [==============================] - 1s 3ms/step - loss: 15308113.0000 - root_mean_squared_error: 3912.5583\n",
      "Epoch 15/100\n",
      "260/260 [==============================] - 1s 3ms/step - loss: 15303875.0000 - root_mean_squared_error: 3912.0168\n",
      "Epoch 16/100\n",
      "260/260 [==============================] - 1s 3ms/step - loss: 15366704.0000 - root_mean_squared_error: 3920.0388\n",
      "Epoch 17/100\n",
      "260/260 [==============================] - 1s 3ms/step - loss: 15301830.0000 - root_mean_squared_error: 3911.7554\n",
      "Epoch 18/100\n",
      "260/260 [==============================] - 1s 3ms/step - loss: 15289633.0000 - root_mean_squared_error: 3910.1960\n",
      "Epoch 19/100\n",
      "260/260 [==============================] - 1s 3ms/step - loss: 15281392.0000 - root_mean_squared_error: 3909.1421\n",
      "Epoch 20/100\n",
      "260/260 [==============================] - 1s 3ms/step - loss: 15315043.0000 - root_mean_squared_error: 3913.4438\n",
      "Epoch 21/100\n",
      "260/260 [==============================] - 1s 3ms/step - loss: 15312098.0000 - root_mean_squared_error: 3913.0676\n",
      "Epoch 22/100\n",
      "260/260 [==============================] - 1s 3ms/step - loss: 15328096.0000 - root_mean_squared_error: 3915.1113\n",
      "Epoch 23/100\n",
      "260/260 [==============================] - 1s 3ms/step - loss: 15309217.0000 - root_mean_squared_error: 3912.6995\n",
      "Epoch 24/100\n",
      "260/260 [==============================] - 1s 3ms/step - loss: 15301278.0000 - root_mean_squared_error: 3911.6848\n",
      "Epoch 25/100\n",
      "260/260 [==============================] - 1s 3ms/step - loss: 15313795.0000 - root_mean_squared_error: 3913.2844\n",
      "Epoch 26/100\n",
      "260/260 [==============================] - 1s 3ms/step - loss: 15309385.0000 - root_mean_squared_error: 3912.7209\n",
      "Epoch 27/100\n",
      "260/260 [==============================] - 1s 4ms/step - loss: 15334341.0000 - root_mean_squared_error: 3915.9087\n",
      "Epoch 28/100\n",
      "260/260 [==============================] - 1s 3ms/step - loss: 15309222.0000 - root_mean_squared_error: 3912.7002\n",
      "Epoch 29/100\n",
      "260/260 [==============================] - 1s 3ms/step - loss: 15307651.0000 - root_mean_squared_error: 3912.4993\n",
      "Epoch 30/100\n",
      "260/260 [==============================] - 1s 3ms/step - loss: 15284421.0000 - root_mean_squared_error: 3909.5295\n",
      "Epoch 31/100\n",
      "260/260 [==============================] - 1s 3ms/step - loss: 15302953.0000 - root_mean_squared_error: 3911.8989\n",
      "Epoch 32/100\n",
      "260/260 [==============================] - 1s 3ms/step - loss: 15306212.0000 - root_mean_squared_error: 3912.3154\n",
      "Epoch 33/100\n",
      "260/260 [==============================] - 1s 3ms/step - loss: 15301530.0000 - root_mean_squared_error: 3911.7170\n",
      "Epoch 34/100\n",
      "260/260 [==============================] - 1s 3ms/step - loss: 15295856.0000 - root_mean_squared_error: 3910.9917\n",
      "Epoch 35/100\n",
      "260/260 [==============================] - 1s 3ms/step - loss: 15317751.0000 - root_mean_squared_error: 3913.7898\n",
      "Epoch 36/100\n",
      "260/260 [==============================] - 1s 3ms/step - loss: 15306248.0000 - root_mean_squared_error: 3912.3201\n",
      "Epoch 37/100\n",
      "260/260 [==============================] - 1s 3ms/step - loss: 15311570.0000 - root_mean_squared_error: 3913.0002\n",
      "Epoch 38/100\n",
      "260/260 [==============================] - 1s 3ms/step - loss: 15304261.0000 - root_mean_squared_error: 3912.0662\n",
      "Epoch 39/100\n",
      "260/260 [==============================] - 1s 3ms/step - loss: 15324581.0000 - root_mean_squared_error: 3914.6624\n",
      "Epoch 40/100\n",
      "260/260 [==============================] - 1s 3ms/step - loss: 15291393.0000 - root_mean_squared_error: 3910.4211\n",
      "Epoch 41/100\n",
      "260/260 [==============================] - 1s 3ms/step - loss: 15320043.0000 - root_mean_squared_error: 3914.0828\n",
      "Epoch 42/100\n",
      "260/260 [==============================] - 1s 3ms/step - loss: 15307500.0000 - root_mean_squared_error: 3912.4800\n",
      "Epoch 43/100\n",
      "260/260 [==============================] - 1s 3ms/step - loss: 15286445.0000 - root_mean_squared_error: 3909.7883\n",
      "Epoch 44/100\n",
      "260/260 [==============================] - 1s 3ms/step - loss: 15321929.0000 - root_mean_squared_error: 3914.3235\n",
      "Epoch 45/100\n",
      "260/260 [==============================] - 1s 3ms/step - loss: 15295571.0000 - root_mean_squared_error: 3910.9553\n",
      "Epoch 46/100\n",
      "260/260 [==============================] - 1s 3ms/step - loss: 15307084.0000 - root_mean_squared_error: 3912.4268\n",
      "Epoch 47/100\n",
      "260/260 [==============================] - 1s 3ms/step - loss: 15283010.0000 - root_mean_squared_error: 3909.3491\n",
      "Epoch 48/100\n",
      "260/260 [==============================] - 1s 3ms/step - loss: 15260970.0000 - root_mean_squared_error: 3906.5291\n",
      "Epoch 49/100\n",
      "260/260 [==============================] - 1s 3ms/step - loss: 15106334.0000 - root_mean_squared_error: 3886.6868\n",
      "Epoch 50/100\n",
      "260/260 [==============================] - 1s 3ms/step - loss: 14877173.0000 - root_mean_squared_error: 3857.0938\n",
      "Epoch 51/100\n",
      "260/260 [==============================] - 1s 3ms/step - loss: 14594442.0000 - root_mean_squared_error: 3820.2673\n",
      "Epoch 52/100\n",
      "260/260 [==============================] - 1s 3ms/step - loss: 14267488.0000 - root_mean_squared_error: 3777.2329\n",
      "Epoch 53/100\n",
      "260/260 [==============================] - 1s 3ms/step - loss: 13913824.0000 - root_mean_squared_error: 3730.1238\n",
      "Epoch 54/100\n",
      "260/260 [==============================] - 1s 3ms/step - loss: 13566710.0000 - root_mean_squared_error: 3683.3015\n",
      "Epoch 55/100\n",
      "260/260 [==============================] - 1s 3ms/step - loss: 13249068.0000 - root_mean_squared_error: 3639.9270\n",
      "Epoch 56/100\n",
      "260/260 [==============================] - 1s 3ms/step - loss: 12898003.0000 - root_mean_squared_error: 3591.3789\n",
      "Epoch 57/100\n",
      "260/260 [==============================] - 1s 3ms/step - loss: 12710793.0000 - root_mean_squared_error: 3565.2200\n",
      "Epoch 58/100\n",
      "260/260 [==============================] - 1s 3ms/step - loss: 12541706.0000 - root_mean_squared_error: 3541.4270\n",
      "Epoch 59/100\n",
      "260/260 [==============================] - 1s 3ms/step - loss: 12402930.0000 - root_mean_squared_error: 3521.7793\n",
      "Epoch 60/100\n",
      "260/260 [==============================] - 1s 3ms/step - loss: 12329218.0000 - root_mean_squared_error: 3511.2986\n",
      "Epoch 61/100\n",
      "260/260 [==============================] - 1s 3ms/step - loss: 12222971.0000 - root_mean_squared_error: 3496.1365\n",
      "Epoch 62/100\n",
      "260/260 [==============================] - 1s 3ms/step - loss: 12189269.0000 - root_mean_squared_error: 3491.3135\n",
      "Epoch 63/100\n",
      "260/260 [==============================] - 1s 4ms/step - loss: 12142171.0000 - root_mean_squared_error: 3484.5618\n",
      "Epoch 64/100\n",
      "260/260 [==============================] - 1s 3ms/step - loss: 12111319.0000 - root_mean_squared_error: 3480.1321\n",
      "Epoch 65/100\n"
     ]
    },
    {
     "name": "stdout",
     "output_type": "stream",
     "text": [
      "260/260 [==============================] - 1s 3ms/step - loss: 12068665.0000 - root_mean_squared_error: 3473.9985\n",
      "Epoch 66/100\n",
      "260/260 [==============================] - 1s 3ms/step - loss: 12081735.0000 - root_mean_squared_error: 3475.8789\n",
      "Epoch 67/100\n",
      "260/260 [==============================] - 1s 3ms/step - loss: 12016147.0000 - root_mean_squared_error: 3466.4314\n",
      "Epoch 68/100\n",
      "260/260 [==============================] - 1s 3ms/step - loss: 12078394.0000 - root_mean_squared_error: 3475.3984\n",
      "Epoch 69/100\n",
      "260/260 [==============================] - 1s 3ms/step - loss: 12018334.0000 - root_mean_squared_error: 3466.7468\n",
      "Epoch 70/100\n",
      "260/260 [==============================] - 1s 3ms/step - loss: 12054497.0000 - root_mean_squared_error: 3471.9587\n",
      "Epoch 71/100\n",
      "260/260 [==============================] - 1s 3ms/step - loss: 12087817.0000 - root_mean_squared_error: 3476.7539\n",
      "Epoch 72/100\n",
      "260/260 [==============================] - 1s 3ms/step - loss: 12047733.0000 - root_mean_squared_error: 3470.9844\n",
      "Epoch 73/100\n",
      "260/260 [==============================] - 1s 3ms/step - loss: 12050087.0000 - root_mean_squared_error: 3471.3235\n",
      "Epoch 74/100\n",
      "260/260 [==============================] - 1s 3ms/step - loss: 12003149.0000 - root_mean_squared_error: 3464.5562\n",
      "Epoch 75/100\n",
      "260/260 [==============================] - 1s 3ms/step - loss: 11993285.0000 - root_mean_squared_error: 3463.1323\n",
      "Epoch 76/100\n",
      "260/260 [==============================] - 1s 3ms/step - loss: 12019140.0000 - root_mean_squared_error: 3466.8630\n",
      "Epoch 77/100\n",
      "260/260 [==============================] - 1s 3ms/step - loss: 12045707.0000 - root_mean_squared_error: 3470.6926\n",
      "Epoch 78/100\n",
      "260/260 [==============================] - 1s 3ms/step - loss: 12027512.0000 - root_mean_squared_error: 3468.0703\n",
      "Epoch 79/100\n",
      "260/260 [==============================] - 1s 3ms/step - loss: 12021248.0000 - root_mean_squared_error: 3467.1672\n",
      "Epoch 80/100\n",
      "260/260 [==============================] - 1s 3ms/step - loss: 12072416.0000 - root_mean_squared_error: 3474.5383\n",
      "Epoch 81/100\n",
      "260/260 [==============================] - 1s 3ms/step - loss: 12017368.0000 - root_mean_squared_error: 3466.6077\n",
      "Epoch 82/100\n",
      "260/260 [==============================] - 1s 3ms/step - loss: 12031821.0000 - root_mean_squared_error: 3468.6917\n",
      "Epoch 83/100\n",
      "260/260 [==============================] - 1s 3ms/step - loss: 12041006.0000 - root_mean_squared_error: 3470.0154\n",
      "Epoch 84/100\n",
      "260/260 [==============================] - 1s 3ms/step - loss: 11989067.0000 - root_mean_squared_error: 3462.5232\n",
      "Epoch 85/100\n",
      "260/260 [==============================] - 1s 3ms/step - loss: 12032325.0000 - root_mean_squared_error: 3468.7642\n",
      "Epoch 86/100\n",
      "260/260 [==============================] - 1s 3ms/step - loss: 12028605.0000 - root_mean_squared_error: 3468.2280\n",
      "Epoch 87/100\n",
      "260/260 [==============================] - 1s 3ms/step - loss: 12036240.0000 - root_mean_squared_error: 3469.3284\n",
      "Epoch 88/100\n",
      "260/260 [==============================] - 1s 3ms/step - loss: 12009846.0000 - root_mean_squared_error: 3465.5225\n",
      "Epoch 89/100\n",
      "260/260 [==============================] - 1s 3ms/step - loss: 12002861.0000 - root_mean_squared_error: 3464.5146\n",
      "Epoch 90/100\n",
      "260/260 [==============================] - 1s 3ms/step - loss: 12012975.0000 - root_mean_squared_error: 3465.9739\n",
      "Epoch 91/100\n",
      "260/260 [==============================] - 1s 3ms/step - loss: 12024051.0000 - root_mean_squared_error: 3467.5713\n",
      "Epoch 92/100\n",
      "260/260 [==============================] - 1s 3ms/step - loss: 12032512.0000 - root_mean_squared_error: 3468.7913\n",
      "Epoch 93/100\n",
      "260/260 [==============================] - 1s 3ms/step - loss: 12002445.0000 - root_mean_squared_error: 3464.4546\n",
      "Epoch 94/100\n",
      "260/260 [==============================] - 1s 3ms/step - loss: 11993951.0000 - root_mean_squared_error: 3463.2285\n",
      "Epoch 95/100\n",
      "260/260 [==============================] - 1s 3ms/step - loss: 12012429.0000 - root_mean_squared_error: 3465.8950\n",
      "Epoch 96/100\n",
      "260/260 [==============================] - 1s 3ms/step - loss: 12010278.0000 - root_mean_squared_error: 3465.5847\n",
      "Epoch 97/100\n",
      "260/260 [==============================] - 1s 3ms/step - loss: 12030550.0000 - root_mean_squared_error: 3468.5083\n",
      "Epoch 98/100\n",
      "260/260 [==============================] - 1s 3ms/step - loss: 12042678.0000 - root_mean_squared_error: 3470.2561\n",
      "Epoch 99/100\n",
      "260/260 [==============================] - 1s 3ms/step - loss: 12051010.0000 - root_mean_squared_error: 3471.4565\n",
      "Epoch 100/100\n",
      "260/260 [==============================] - 1s 3ms/step - loss: 12005924.0000 - root_mean_squared_error: 3464.9565\n"
     ]
    }
   ],
   "source": [
    "# Fit model\n",
    "history = model.fit(X_train, y_train, epochs=100)"
   ]
  },
  {
   "cell_type": "code",
   "execution_count": 44,
   "id": "37f8cb8f",
   "metadata": {},
   "outputs": [
    {
     "name": "stdout",
     "output_type": "stream",
     "text": [
      "66/66 [==============================] - 0s 2ms/step\n"
     ]
    }
   ],
   "source": [
    "y_pred = model.predict(X_test)"
   ]
  },
  {
   "cell_type": "code",
   "execution_count": 45,
   "id": "114e9699",
   "metadata": {},
   "outputs": [],
   "source": [
    "# Convert to 1D array\n",
    "y_pred = np.ravel(y_pred)"
   ]
  },
  {
   "cell_type": "code",
   "execution_count": 46,
   "id": "b50c0340",
   "metadata": {},
   "outputs": [
    {
     "data": {
      "text/plain": [
       "3867.2987400959964"
      ]
     },
     "execution_count": 46,
     "metadata": {},
     "output_type": "execute_result"
    }
   ],
   "source": [
    "# Test RMSE evaluation\n",
    "mean_squared_error(y_test, y_pred, squared=False)"
   ]
  },
  {
   "cell_type": "markdown",
   "id": "f75dc916",
   "metadata": {},
   "source": [
    "### Results\n",
    "- **For epoch=20**: Linear regression model (RMSE = 4304) has a little bit better performance than building a neural network (RMSE = 4319). This may be due to the model not reaching the optimal loss (in this case lowest MSE).\n",
    "- **For epoch=100**: The neural network model (RMSE = 3867) has a better performance than the linear regression model. Optimal loss was reached around epoch 74 before bouncing at minimum MSE.\n",
    "- **For optimizer=\"sgd\"**: Loss and RMSE values in compiling the model shows \"nan\" values. This may be due to gradient explosion."
   ]
  },
  {
   "cell_type": "code",
   "execution_count": null,
   "id": "170f3376",
   "metadata": {},
   "outputs": [],
   "source": []
  }
 ],
 "metadata": {
  "kernelspec": {
   "display_name": "Python 3 (ipykernel)",
   "language": "python",
   "name": "python3"
  },
  "language_info": {
   "codemirror_mode": {
    "name": "ipython",
    "version": 3
   },
   "file_extension": ".py",
   "mimetype": "text/x-python",
   "name": "python",
   "nbconvert_exporter": "python",
   "pygments_lexer": "ipython3",
   "version": "3.9.7"
  }
 },
 "nbformat": 4,
 "nbformat_minor": 5
}
